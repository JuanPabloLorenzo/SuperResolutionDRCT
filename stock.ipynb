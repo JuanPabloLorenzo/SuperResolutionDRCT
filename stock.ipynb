{
 "cells": [
  {
   "cell_type": "code",
   "execution_count": 25,
   "metadata": {},
   "outputs": [
    {
     "name": "stdout",
     "output_type": "stream",
     "text": [
      "21 14\n",
      "Percentage of days ending positive given the first hour was positive: 66.67%\n"
     ]
    }
   ],
   "source": [
    "import yfinance as yf\n",
    "import pandas as pd\n",
    "from datetime import datetime, timedelta\n",
    "\n",
    "# Define the ticker symbol for Apple\n",
    "ticker = 'AAPL'\n",
    "\n",
    "end_date = datetime.today()\n",
    "start_date = end_date - timedelta(days=60)\n",
    "\n",
    "try:\n",
    "    # Fetch all hourly data at once\n",
    "    data = yf.download(\n",
    "        ticker,\n",
    "        start=start_date,\n",
    "        end=end_date,\n",
    "        interval='5m',\n",
    "        progress=False\n",
    "    )\n",
    "except Exception as e:\n",
    "    print(f\"Error fetching data: {e}\")\n",
    "    data = pd.DataFrame()\n",
    "\n",
    "# Initialize counters\n",
    "days_with_positive_first_hour = 0\n",
    "days_positive_after_positive_first_hour = 0\n",
    "\n",
    "if not data.empty:\n",
    "    # Ensure datetime index\n",
    "    data.index = pd.to_datetime(data.index)\n",
    "    \n",
    "    # Group data by date\n",
    "    grouped = data.groupby(data.index.date)\n",
    "    \n",
    "    for date, group in grouped:\n",
    "        if not group.empty:\n",
    "            # Get first hour's data\n",
    "            first_hour = group.iloc[0]\n",
    "            # Check if first hour ended higher than it started\n",
    "            if first_hour['Close'] > first_hour['Open']:\n",
    "                days_with_positive_first_hour += 1\n",
    "                day_close = group['Close'].iloc[-1]\n",
    "                if day_close > first_hour['Close']:\n",
    "                    days_positive_after_positive_first_hour += 1\n",
    "\n",
    "# Calculate the percentage\n",
    "if days_with_positive_first_hour > 0:\n",
    "    percentage = (days_positive_after_positive_first_hour / days_with_positive_first_hour) * 100\n",
    "    print(days_with_positive_first_hour, days_positive_after_positive_first_hour)\n",
    "    print(f\"Percentage of days ending positive given the first hour was positive: {percentage:.2f}%\")\n",
    "else:\n",
    "    print(\"No days with positive first hour were found.\")\n",
    "    \n",
    "# Note:\n",
    "# Fetching hourly data for 1 year should be supported by yfinance.\n"
   ]
  },
  {
   "cell_type": "code",
   "execution_count": 26,
   "metadata": {},
   "outputs": [
    {
     "name": "stdout",
     "output_type": "stream",
     "text": [
      "Total number of days with Close > Open: 28\n",
      "Total number of days: 41\n",
      "Percentage of days with Close > Open: 68.29%\n"
     ]
    }
   ],
   "source": [
    "positive_days = 0\n",
    "total_days = 0\n",
    "for date, group in grouped:\n",
    "    total_days += 1\n",
    "    if not group.empty:\n",
    "        day_open = group.iloc[0]['Open']\n",
    "        day_close = group['Close'].iloc[-1]\n",
    "        if day_close > day_open:\n",
    "            positive_days += 1\n",
    "\n",
    "print(f\"Total number of days with Close > Open: {positive_days}\")\n",
    "print(f\"Total number of days: {total_days}\")\n",
    "print(f\"Percentage of days with Close > Open: {positive_days / total_days * 100:.2f}%\")"
   ]
  }
 ],
 "metadata": {
  "kernelspec": {
   "display_name": "base",
   "language": "python",
   "name": "python3"
  },
  "language_info": {
   "codemirror_mode": {
    "name": "ipython",
    "version": 3
   },
   "file_extension": ".py",
   "mimetype": "text/x-python",
   "name": "python",
   "nbconvert_exporter": "python",
   "pygments_lexer": "ipython3",
   "version": "3.11.4"
  }
 },
 "nbformat": 4,
 "nbformat_minor": 2
}
